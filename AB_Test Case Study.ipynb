{
 "cells": [
  {
   "cell_type": "markdown",
   "id": "7a593998",
   "metadata": {
    "cell_id": 1
   },
   "source": [
    "# Background"
   ]
  },
  {
   "cell_type": "markdown",
   "id": "5ae5d41b",
   "metadata": {},
   "source": [
    "You are a data analyst responsible for InstaMagnet's product at Bookbuster. In order to enter the short video social media space, the product manager at InstaMagnet has proposed launching a new feature called \"SnapFlicks.\" This feature will allow users to share short video clips on the platform in addition to photos, enriching the content and increasing user engagement.\n",
    "\n",
    "However, the product manager is uncertain whether SnapFlicks will be well-received by existing users and is concerned that the introduction of short videos may cannibalize the consumption of image-based content on the platform. To avoid any negative impact on the existing app ecosystem after the feature is launched, the product manager needs data to substantiate the value of the new feature. They have turned to the company's data team for assistance.\n",
    "\n",
    "As a data analyst in the company, you immediately think of A/B testing as a great solution to validate the worthiness of SnapFlicks and measure its potential value for InstaMagnet. You propose conducting an A/B test to evaluate whether SnapFlicks should be launched and determine its potential impact.\n",
    "\n",
    "Now, let's go through the entire process of the experiment design and data collection.\n"
   ]
  },
  {
   "cell_type": "markdown",
   "id": "2f478fcc",
   "metadata": {
    "cell_id": 13
   },
   "source": [
    "---\n",
    "# Experimental subjects"
   ]
  },
  {
   "cell_type": "markdown",
   "id": "3efa8475",
   "metadata": {},
   "source": [
    "To avoid causing uncontrolled impacts on the overall user experience, we will conduct a small-scale experiment instead of testing all InstaMagnet users. Additionally, global products often undergo testing and feature rollout in different countries one by one. In this case, the product manager plans to enter the Latin American market, and you have selected Mexico as the test country.\n",
    "\n",
    "From the existing InstaMagnet users in Mexico, you will extract a small portion of the traffic and evenly distribute these user IDs into two groups: Group A (control group) and Group B (experimental group). Users in Group A will remain unchanged and continue to see the original version of the InstaMagnet interface. Users in Group B, the experimental group, will experience a configuration change upon opening the app. They will see the SnapFlicks icon on the home screen and have access to the newly launched short video feature.\n",
    "\n",
    "By conducting this small-scale experiment in Mexico, we can assess the impact of the SnapFlicks feature on user engagement and evaluate its potential success in the Latin American market.\n"
   ]
  },
  {
   "cell_type": "markdown",
   "id": "5288c755",
   "metadata": {},
   "source": [
    "# Experimental Metrics\n",
    "\n",
    "We will formulate the hypotheses we want to validate in the experiment:\n",
    "\n",
    "H0: The original version of InstaMagnet is more favored by users.\n",
    "H1: The new version of InstaMagnet with SnapFlicks is more favored by users.\n",
    "\n",
    "H0 - Hypothesis to be challenged, H1 - Hypothesis to be supported.\n",
    "\n",
    "However, measuring the level of user favorability is a broad concept, so we need to quantify it. Therefore, you need to determine a set of metrics that will allow us to evaluate the level of user favorability for both the experimental group and the control group."
   ]
  },
  {
   "cell_type": "markdown",
   "id": "5bbae3cd",
   "metadata": {},
   "source": [
    "### North Star Metric / One Metric That Matters\n",
    "We need to determine the North Star Metric for the experiment. In this case, we expect the new feature to increase the average time users spend on InstaMagnet. Therefore, we will define the average usage duration per user as the North Star Metric. The North Star Metric represents the absolute core metric that is highly relevant to the current stage of the product and business/strategy. Once established, it serves as the guiding star, leading the team in the same direction to improve this metric. Since InstaMagnet is an ad-supported free platform, the longer users spend on the platform, the higher the potential ad revenue. Hence, user usage duration is the most important metric that the company strives to improve across the board.\n",
    "\n",
    "### Guardrail Metric\n",
    "User retention in InstaMagnet is also a crucial aspect of our focus. We want to ensure that any new feature does not have a negative impact on user retention. Therefore, we have selected the next-day retention rate as the guardrail metric. The guardrail metric is the target metric that should not significantly decrease while we aim to optimize the North Star Metric. It serves as a basic sanity check in A/B experiments, helping to ensure the quality of the experiment and measure if the experiment aligns with the long-term interests of the business without disrupting other critical objectives. Its purpose is to ensure the smooth operation of the product.\n",
    "\n",
    "### Other Metrics\n",
    "Other observable process metrics include average InstaMagnet usage frequency per user, penetration rate of the SnapFlicks feature, and more.\n"
   ]
  },
  {
   "cell_type": "markdown",
   "id": "b26c164b",
   "metadata": {},
   "source": [
    "# Minimum Sample Size\n",
    "\n",
    "To determine the minimum sample size, we need to confirm the Minimum Detectable Effect (MDE) based on the expected improvement in the target metric. By inputting the recent metric variance of the user population and defining α and β, we can calculate the minimum sample size.\n",
    "\n",
    "MDE (sometimes referred to as delta) represents the expected difference in the mean values of the target metric between the A and B groups in the A/B experiment. When using the formula, the input should be the absolute difference. If there is an expected relative difference, it needs to be transformed into an absolute difference by multiplying the metric value by the relative difference (e.g., 1% = 0.01) to obtain delta.\n",
    "\n",
    "α represents the Type I error rate (False Positive: erroneously rejecting the null hypothesis), and β represents the Type II error rate (False Negative: erroneously accepting the null hypothesis). The typical values for α are 0.05, and for β, they are usually 0.1 or 0.2. Power can be calculated as 1 - β, representing the probability of correctly rejecting the null hypothesis when it is false.\n"
   ]
  },
  {
   "attachments": {
    "image.png": {
     "image/png": "[encoded data removed]"
    }
   },
   "cell_type": "markdown",
   "id": "fde68765",
   "metadata": {
    "cell_id": 26
   },
   "source": [
    "![image.png](attachment:image.png)"
   ]
  },
  {
   "cell_type": "code",
   "execution_count": 1,
   "id": "fc306733",
   "metadata": {
    "cell_id": 29,
    "tags": []
   },
   "outputs": [
    {
     "data": {
      "text/plain": [
       "1.959963984540054"
      ]
     },
     "execution_count": 1,
     "metadata": {},
     "output_type": "execute_result"
    }
   ],
   "source": [
    "from scipy.stats import norm\n",
    "#norm.ppf() takes a percentage and returns a standard deviation multiplier for what value that percentage occurs at for a one-tail test on a standard normal distribution\n",
    "norm.ppf(0.975)"
   ]
  },
  {
   "cell_type": "markdown",
   "id": "fd838ab2",
   "metadata": {},
   "source": [
    "Due to our expected improvement metric being the average usage duration per user on Instagram, we need to utilize the current average value of this metric in the overall user population during the calculation of the minimum sample size. Additionally, we will input the desired Minimum Detectable Effect (MDE), as well as the values for α and β. The commonly used values for α and β in the industry are typically set as 0.05 and 0.8, respectively."
   ]
  },
  {
   "cell_type": "code",
   "execution_count": 2,
   "id": "364170bc",
   "metadata": {
    "cell_id": 28,
    "tags": []
   },
   "outputs": [
    {
     "name": "stdout",
     "output_type": "stream",
     "text": [
      "The minimal sample size for each group is 44651\n"
     ]
    }
   ],
   "source": [
    "alpha = 0.05\n",
    "power = 0.8\n",
    "delta = 450*0.005 # Statistically, the average usage duration of InstaMagnet per person over the past two weeks is calculated. It is expected that SnapFlicks will bring a minimum improvement of 0.5% to the product metric.\n",
    "SD = 120 # The standard deviation of the metric based on the data collected over the past two weeks is calculated.\n",
    "variance = SD**2\n",
    "sample_size = 2 * (norm.ppf(1 - alpha / 2) + norm.ppf(power)) ** 2 * variance / (delta ** 2)\n",
    "#calculate the minimum sample size\n",
    "print('The minimal sample size for each group is',round(sample_size))"
   ]
  },
  {
   "cell_type": "markdown",
   "id": "8b705d48",
   "metadata": {
    "cell_id": 76
   },
   "source": [
    "According to our calculations, the minimum sample size required for a single experimental group is X. Since we have two groups, the minimum sample size required for the experiment would be approximately 2X."
   ]
  },
  {
   "cell_type": "markdown",
   "id": "89f97fee",
   "metadata": {},
   "source": [
    "# Experimental Cycle\n",
    "Once the minimum sample size is calculated, we can proceed with conducting the experiment using the company's A/B testing platform. The platform should be able to ensure proper allocation and segmentation of the sample traffic, ensuring random and even distribution between the experimental and control groups. Considering the current average daily active user count of InstaMagnet and the proportion of traffic we plan to use for this experiment, we can estimate the duration required for the experiment to run."
   ]
  },
  {
   "cell_type": "code",
   "execution_count": 3,
   "id": "a94c0473",
   "metadata": {
    "cell_id": 34,
    "tags": []
   },
   "outputs": [
    {
     "name": "stdout",
     "output_type": "stream",
     "text": [
      "AB test result will be available after 11 days\n"
     ]
    }
   ],
   "source": [
    "DAU = 8000000 # The current average daily active user count in Mexico.\n",
    "proportion = 0.001 #A single experiment consumes 0.1% of the traffic.\n",
    "total_sample = sample_size*2 # The minimum sample size for a single group multiplied by 2 groups.\n",
    "test_duration = total_sample / (DAU*proportion)\n",
    "# Compute the cycle\n",
    "print('AB test result will be available after',round(test_duration),'days')"
   ]
  },
  {
   "cell_type": "markdown",
   "id": "1d05cd91",
   "metadata": {},
   "source": [
    "# Experiment Analysis\n",
    "After observing for a sufficient duration and collecting an adequate sample size, we can proceed with the experiment analysis. We will close the experiment, gather data from both the experimental and control groups, and calculate the differences and significance of the metric means between the two groups based on the predetermined metrics.\n",
    "\n",
    "For different types of metrics, we need to apply different statistical methods for confidence interval analysis. By utilizing appropriate statistical techniques, we can assess the significance and confidence of the observed differences in the metrics between the experimental and control groups.\n",
    "\n",
    "Please let me know if you need any further assistance."
   ]
  },
  {
   "cell_type": "markdown",
   "id": "4f553ea2",
   "metadata": {},
   "source": [
    "# Hypothesis Testing for Average Metrics\n",
    "\n",
    "Hypothesis testing for average metrics, such as average app usage duration or average app usage frequency, typically involves the use of a Two Sample t-test, also known as the Student's t-test.\n",
    "\n",
    "This test assumes that the total population variances of the experimental group and the control group are equal but unknown. It uses sample variances as estimates of the population variances and aims to determine if the means of the two populations are statistically different.\n",
    "\n",
    "When conducting hypothesis testing for average metrics, the following assumptions need to be satisfied:\n",
    "\n",
    "1) Normality: The populations should follow a normal distribution. If the populations do not follow a normal distribution, data transformation or non-parametric testing methods may be required.\n",
    "2) Independence: The samples should be independent of each other, meaning that the results of each sample should not be influenced by other samples. This implies avoiding the use of duplicate samples during sampling.\n",
    "3) Homogeneity of variance: The assumption is that the variances of different samples are equal. If the variances are unequal, data stabilization techniques or non-parametric testing methods may be necessary.\n",
    "4) Adequate sample size: Sufficient sample size is required to ensure the accuracy of the hypothesis test results.\n",
    "\n",
    "Please let me know if you need any further assistance.\n"
   ]
  },
  {
   "cell_type": "code",
   "execution_count": 4,
   "id": "52fc5567",
   "metadata": {
    "cell_id": 47,
    "tags": []
   },
   "outputs": [],
   "source": [
    "#input data\n",
    "import pandas as pd\n",
    "dfA = pd.read_excel('AB_test_sample.xlsx', sheet_name = 'GroupA')\n",
    "dfB = pd.read_excel('AB_test_sample.xlsx', sheet_name = 'GroupB')"
   ]
  },
  {
   "cell_type": "code",
   "execution_count": 5,
   "id": "b26b9f0f",
   "metadata": {
    "cell_id": 48,
    "tags": []
   },
   "outputs": [
    {
     "data": {
      "text/html": [
       "<div>\n",
       "<style scoped>\n",
       "    .dataframe tbody tr th:only-of-type {\n",
       "        vertical-align: middle;\n",
       "    }\n",
       "\n",
       "    .dataframe tbody tr th {\n",
       "        vertical-align: top;\n",
       "    }\n",
       "\n",
       "    .dataframe thead th {\n",
       "        text-align: right;\n",
       "    }\n",
       "</style>\n",
       "<table border=\"1\" class=\"dataframe\">\n",
       "  <thead>\n",
       "    <tr style=\"text-align: right;\">\n",
       "      <th></th>\n",
       "      <th>user_id</th>\n",
       "      <th>app use hours</th>\n",
       "      <th>app use times</th>\n",
       "      <th>new feature</th>\n",
       "      <th>app used after test started</th>\n",
       "    </tr>\n",
       "  </thead>\n",
       "  <tbody>\n",
       "    <tr>\n",
       "      <th>count</th>\n",
       "      <td>4.499600e+04</td>\n",
       "      <td>44996.000000</td>\n",
       "      <td>44996.000000</td>\n",
       "      <td>44996.0</td>\n",
       "      <td>44996.000000</td>\n",
       "    </tr>\n",
       "    <tr>\n",
       "      <th>mean</th>\n",
       "      <td>5.506530e+07</td>\n",
       "      <td>450.001695</td>\n",
       "      <td>9.981509</td>\n",
       "      <td>0.0</td>\n",
       "      <td>0.401391</td>\n",
       "    </tr>\n",
       "    <tr>\n",
       "      <th>std</th>\n",
       "      <td>2.601348e+07</td>\n",
       "      <td>119.325336</td>\n",
       "      <td>2.985547</td>\n",
       "      <td>0.0</td>\n",
       "      <td>0.490185</td>\n",
       "    </tr>\n",
       "    <tr>\n",
       "      <th>min</th>\n",
       "      <td>1.000036e+07</td>\n",
       "      <td>0.854408</td>\n",
       "      <td>1.000000</td>\n",
       "      <td>0.0</td>\n",
       "      <td>0.000000</td>\n",
       "    </tr>\n",
       "    <tr>\n",
       "      <th>25%</th>\n",
       "      <td>3.251697e+07</td>\n",
       "      <td>369.792762</td>\n",
       "      <td>8.000000</td>\n",
       "      <td>0.0</td>\n",
       "      <td>0.000000</td>\n",
       "    </tr>\n",
       "    <tr>\n",
       "      <th>50%</th>\n",
       "      <td>5.495975e+07</td>\n",
       "      <td>449.979288</td>\n",
       "      <td>10.000000</td>\n",
       "      <td>0.0</td>\n",
       "      <td>0.000000</td>\n",
       "    </tr>\n",
       "    <tr>\n",
       "      <th>75%</th>\n",
       "      <td>7.784610e+07</td>\n",
       "      <td>530.479653</td>\n",
       "      <td>12.000000</td>\n",
       "      <td>0.0</td>\n",
       "      <td>1.000000</td>\n",
       "    </tr>\n",
       "    <tr>\n",
       "      <th>max</th>\n",
       "      <td>9.999990e+07</td>\n",
       "      <td>942.694504</td>\n",
       "      <td>22.000000</td>\n",
       "      <td>0.0</td>\n",
       "      <td>1.000000</td>\n",
       "    </tr>\n",
       "  </tbody>\n",
       "</table>\n",
       "</div>"
      ],
      "text/plain": [
       "            user_id  app use hours  app use times  new feature  \\\n",
       "count  4.499600e+04   44996.000000   44996.000000      44996.0   \n",
       "mean   5.506530e+07     450.001695       9.981509          0.0   \n",
       "std    2.601348e+07     119.325336       2.985547          0.0   \n",
       "min    1.000036e+07       0.854408       1.000000          0.0   \n",
       "25%    3.251697e+07     369.792762       8.000000          0.0   \n",
       "50%    5.495975e+07     449.979288      10.000000          0.0   \n",
       "75%    7.784610e+07     530.479653      12.000000          0.0   \n",
       "max    9.999990e+07     942.694504      22.000000          0.0   \n",
       "\n",
       "       app used after test started  \n",
       "count                 44996.000000  \n",
       "mean                      0.401391  \n",
       "std                       0.490185  \n",
       "min                       0.000000  \n",
       "25%                       0.000000  \n",
       "50%                       0.000000  \n",
       "75%                       1.000000  \n",
       "max                       1.000000  "
      ]
     },
     "execution_count": 5,
     "metadata": {},
     "output_type": "execute_result"
    }
   ],
   "source": [
    "#The control group data.\n",
    "dfA.describe()"
   ]
  },
  {
   "cell_type": "code",
   "execution_count": 6,
   "id": "f4a7a32e",
   "metadata": {
    "cell_id": 49,
    "tags": []
   },
   "outputs": [
    {
     "data": {
      "text/html": [
       "<div>\n",
       "<style scoped>\n",
       "    .dataframe tbody tr th:only-of-type {\n",
       "        vertical-align: middle;\n",
       "    }\n",
       "\n",
       "    .dataframe tbody tr th {\n",
       "        vertical-align: top;\n",
       "    }\n",
       "\n",
       "    .dataframe thead th {\n",
       "        text-align: right;\n",
       "    }\n",
       "</style>\n",
       "<table border=\"1\" class=\"dataframe\">\n",
       "  <thead>\n",
       "    <tr style=\"text-align: right;\">\n",
       "      <th></th>\n",
       "      <th>user_id</th>\n",
       "      <th>app use hours</th>\n",
       "      <th>app use times</th>\n",
       "      <th>new feature</th>\n",
       "      <th>app used after test started</th>\n",
       "    </tr>\n",
       "  </thead>\n",
       "  <tbody>\n",
       "    <tr>\n",
       "      <th>count</th>\n",
       "      <td>4.499600e+04</td>\n",
       "      <td>44996.000000</td>\n",
       "      <td>44996.000000</td>\n",
       "      <td>44996.000000</td>\n",
       "      <td>44996.000000</td>\n",
       "    </tr>\n",
       "    <tr>\n",
       "      <th>mean</th>\n",
       "      <td>5.498191e+07</td>\n",
       "      <td>453.075374</td>\n",
       "      <td>10.100276</td>\n",
       "      <td>0.161948</td>\n",
       "      <td>0.398347</td>\n",
       "    </tr>\n",
       "    <tr>\n",
       "      <th>std</th>\n",
       "      <td>2.603558e+07</td>\n",
       "      <td>130.091910</td>\n",
       "      <td>3.310604</td>\n",
       "      <td>0.368407</td>\n",
       "      <td>0.489563</td>\n",
       "    </tr>\n",
       "    <tr>\n",
       "      <th>min</th>\n",
       "      <td>1.000101e+07</td>\n",
       "      <td>2.162968</td>\n",
       "      <td>1.000000</td>\n",
       "      <td>0.000000</td>\n",
       "      <td>0.000000</td>\n",
       "    </tr>\n",
       "    <tr>\n",
       "      <th>25%</th>\n",
       "      <td>3.238677e+07</td>\n",
       "      <td>365.476146</td>\n",
       "      <td>8.000000</td>\n",
       "      <td>0.000000</td>\n",
       "      <td>0.000000</td>\n",
       "    </tr>\n",
       "    <tr>\n",
       "      <th>50%</th>\n",
       "      <td>5.493478e+07</td>\n",
       "      <td>453.135370</td>\n",
       "      <td>10.000000</td>\n",
       "      <td>0.000000</td>\n",
       "      <td>0.000000</td>\n",
       "    </tr>\n",
       "    <tr>\n",
       "      <th>75%</th>\n",
       "      <td>7.761172e+07</td>\n",
       "      <td>540.777622</td>\n",
       "      <td>12.000000</td>\n",
       "      <td>0.000000</td>\n",
       "      <td>1.000000</td>\n",
       "    </tr>\n",
       "    <tr>\n",
       "      <th>max</th>\n",
       "      <td>9.999939e+07</td>\n",
       "      <td>1047.749295</td>\n",
       "      <td>24.000000</td>\n",
       "      <td>1.000000</td>\n",
       "      <td>1.000000</td>\n",
       "    </tr>\n",
       "  </tbody>\n",
       "</table>\n",
       "</div>"
      ],
      "text/plain": [
       "            user_id  app use hours  app use times   new feature  \\\n",
       "count  4.499600e+04   44996.000000   44996.000000  44996.000000   \n",
       "mean   5.498191e+07     453.075374      10.100276      0.161948   \n",
       "std    2.603558e+07     130.091910       3.310604      0.368407   \n",
       "min    1.000101e+07       2.162968       1.000000      0.000000   \n",
       "25%    3.238677e+07     365.476146       8.000000      0.000000   \n",
       "50%    5.493478e+07     453.135370      10.000000      0.000000   \n",
       "75%    7.761172e+07     540.777622      12.000000      0.000000   \n",
       "max    9.999939e+07    1047.749295      24.000000      1.000000   \n",
       "\n",
       "       app used after test started  \n",
       "count                 44996.000000  \n",
       "mean                      0.398347  \n",
       "std                       0.489563  \n",
       "min                       0.000000  \n",
       "25%                       0.000000  \n",
       "50%                       0.000000  \n",
       "75%                       1.000000  \n",
       "max                       1.000000  "
      ]
     },
     "execution_count": 6,
     "metadata": {},
     "output_type": "execute_result"
    }
   ],
   "source": [
    "#The experimental group data.\n",
    "dfB.describe()"
   ]
  },
  {
   "cell_type": "markdown",
   "id": "593eb32b",
   "metadata": {},
   "source": [
    "# Assumptions for Hypothesis Testing on Average Metrics\n",
    "\n",
    "After observing the statistical data of the experimental group and the control group, we can make a preliminary assessment of whether the data satisfies the assumptions for hypothesis testing on average metrics. Let's review each assumption:\n",
    "\n",
    "1) Normality: To verify this assumption, we need to further validate whether the data follows a normal distribution.\n",
    "\n",
    "2) Independence: The independence of samples is ensured by the experimental platform during the allocation process, so we do not need to re-validate this assumption.\n",
    "\n",
    "3) Equality of variances: From the statistical data, we can see that the standard deviations of the metrics in both groups are relatively similar, indicating that this assumption is satisfied.\n",
    "\n",
    "4) Adequate sample size: The sample sizes of both groups exceed the minimum sample size calculated earlier, indicating that this assumption is satisfied.\n",
    "\n",
    "Please let me know if you need any further assistance.\n"
   ]
  },
  {
   "cell_type": "markdown",
   "id": "3913bc64",
   "metadata": {
    "cell_id": 91
   },
   "source": [
    "## The average usage duration per person."
   ]
  },
  {
   "cell_type": "code",
   "execution_count": 7,
   "id": "a09ffc58",
   "metadata": {
    "cell_id": 84,
    "tags": []
   },
   "outputs": [
    {
     "data": {
      "image/png": "[encoded data removed]",
      "text/plain": [
       "<Figure size 640x480 with 1 Axes>"
      ]
     },
     "metadata": {},
     "output_type": "display_data"
    }
   ],
   "source": [
    "import matplotlib.pyplot as plt\n",
    "plt.hist(dfA['app use hours'], bins=100, color='blue', alpha=0.7)\n",
    "plt.show()"
   ]
  },
  {
   "cell_type": "code",
   "execution_count": 8,
   "id": "703719f1",
   "metadata": {
    "cell_id": 85,
    "tags": []
   },
   "outputs": [
    {
     "name": "stdout",
     "output_type": "stream",
     "text": [
      "Sample data follows normal distribution, p = 0.4538848510421052\n"
     ]
    }
   ],
   "source": [
    "#narmality test\n",
    "import scipy.stats as stats\n",
    "k2, p = stats.normaltest(dfA['app use hours'])\n",
    "alpha = 0.05  # significance level\n",
    "if p < alpha:\n",
    "    print(\"Sample data does not follow normal distribution, p =\", p)\n",
    "else:\n",
    "    print(\"Sample data follows normal distribution, p =\", p)"
   ]
  },
  {
   "cell_type": "code",
   "execution_count": 9,
   "id": "5a765369",
   "metadata": {
    "cell_id": 57,
    "tags": []
   },
   "outputs": [
    {
     "data": {
      "text/plain": [
       "Ttest_indResult(statistic=-3.6934297450364797, pvalue=0.0002213804493662174)"
      ]
     },
     "execution_count": 9,
     "metadata": {},
     "output_type": "execute_result"
    }
   ],
   "source": [
    "#T-test\n",
    "import scipy.stats as stats\n",
    "\n",
    "group1 = dfA['app use hours']\n",
    "group2 = dfB['app use hours']\n",
    "stats.ttest_ind(a=group1, b=group2, equal_var=True)\n"
   ]
  },
  {
   "cell_type": "markdown",
   "id": "9efa89b7",
   "metadata": {
    "cell_id": 60
   },
   "source": [
    "Since the p-value is less than or equal to 0.05, we reject the null hypothesis, indicating that the average app usage duration in the experimental group is significantly greater than that in the control group.\n",
    "Considering that the average app usage duration is our primary metric, this result is crucial in determining the success of the experiment."
   ]
  },
  {
   "cell_type": "markdown",
   "id": "1146ab0d",
   "metadata": {
    "cell_id": 93
   },
   "source": [
    "## The average number of app usage per person."
   ]
  },
  {
   "cell_type": "code",
   "execution_count": 10,
   "id": "d0e759e3",
   "metadata": {
    "cell_id": 95,
    "tags": []
   },
   "outputs": [
    {
     "data": {
      "image/png": "[encoded data removed]",
      "text/plain": [
       "<Figure size 640x480 with 1 Axes>"
      ]
     },
     "metadata": {},
     "output_type": "display_data"
    }
   ],
   "source": [
    "import matplotlib.pyplot as plt\n",
    "plt.hist(dfA['app use times'], bins=40, color='blue', alpha=0.7)\n",
    "plt.show()"
   ]
  },
  {
   "cell_type": "code",
   "execution_count": 11,
   "id": "8d034ab2",
   "metadata": {
    "cell_id": 96,
    "tags": []
   },
   "outputs": [
    {
     "name": "stdout",
     "output_type": "stream",
     "text": [
      "Sample data follows normal distribution, p = 0.4616520932198871\n"
     ]
    }
   ],
   "source": [
    "#normality test\n",
    "import scipy.stats as stats\n",
    "k2, p = stats.normaltest(dfA['app use times'])\n",
    "alpha = 0.05  # significance level\n",
    "if p < alpha:\n",
    "    print(\"Sample data does not follow normal distribution, p =\", p)\n",
    "else:\n",
    "    print(\"Sample data follows normal distribution, p =\", p)"
   ]
  },
  {
   "cell_type": "code",
   "execution_count": 12,
   "id": "22505e60",
   "metadata": {
    "cell_id": 64,
    "tags": []
   },
   "outputs": [
    {
     "data": {
      "text/plain": [
       "Ttest_indResult(statistic=-5.6512085520876845, pvalue=1.5980360297263646e-08)"
      ]
     },
     "execution_count": 12,
     "metadata": {},
     "output_type": "execute_result"
    }
   ],
   "source": [
    "#average number of app usage per person\n",
    "group1 = dfA['app use times']\n",
    "group2 = dfB['app use times']\n",
    "stats.ttest_ind(a=group1, b=group2, equal_var=True)"
   ]
  },
  {
   "cell_type": "markdown",
   "id": "2a071b5f",
   "metadata": {
    "cell_id": 65
   },
   "source": [
    "Likewise, the average number of app usage per person in the experimental group is significantly higher than that in the control group."
   ]
  },
  {
   "cell_type": "markdown",
   "id": "c8e8f45e",
   "metadata": {
    "cell_id": 7
   },
   "source": [
    "# Hypothesis testing for retention metrics"
   ]
  },
  {
   "cell_type": "markdown",
   "id": "c0114c6b-88f6-474f-9eff-403a31efb42d",
   "metadata": {},
   "source": [
    "Retention is a typical binary event (stay or not stay, that's the question).\n",
    "Next-day app retention (split by enrollment date):\n",
    "Numerator = Cumulative retention count (users who enrolled on the 1st and used the app on the 2nd day) + (users who enrolled on the 2nd and used the app on the 3rd day) + ... + (users who enrolled on the 30th and used the app on the 31st day).\n",
    "Denominator = Cumulative app usage count (cumulative count of users who enrolled).\n",
    "\n",
    "Depending on the approximation method used, the hypothesis test for the two-sample odds of a binomial distribution can be based on either the chi-square distribution or the normal distribution."
   ]
  },
  {
   "cell_type": "markdown",
   "id": "bb4b1df4",
   "metadata": {
    "cell_id": 37
   },
   "source": [
    "#### Method 1: Chi-square test"
   ]
  },
  {
   "cell_type": "code",
   "execution_count": 13,
   "id": "f816adc9",
   "metadata": {
    "cell_id": 4,
    "tags": []
   },
   "outputs": [],
   "source": [
    "import scipy.stats as stats\n",
    "from scipy.stats import chi2\n",
    "import numpy as np"
   ]
  },
  {
   "cell_type": "markdown",
   "id": "0d2586a8",
   "metadata": {
    "cell_id": 88
   },
   "source": [
    "Pearson's chi-squared test assumes that both samples are derived from a binomial distribution, and the success probabilities in the two samples are equal. When conducting Pearson's chi-squared test, it is necessary to calculate the differences between the observed and expected values, square the differences, and divide them by the expected values to obtain the chi-squared statistic. Then, the chi-square distribution is used to calculate the p-value, which helps determine the significance of the differences.\n",
    "\n",
    "\n",
    "There are several assumptions or requirements that must be met in order to use Pearson's chi-squared test:  \n",
    "1)The data must be independent  \n",
    "2)The data must be drawn from a random sample  \n",
    "3)The data must be categorical and the categories must be mutually exclusive, meaning that each observation cannot belong to more than one category  \n",
    "4)The sample size should be sufficiently large"
   ]
  },
  {
   "cell_type": "code",
   "execution_count": 14,
   "id": "a99adfa2",
   "metadata": {
    "cell_id": 5,
    "tags": []
   },
   "outputs": [
    {
     "name": "stdout",
     "output_type": "stream",
     "text": [
      "Results are chisq = 0.869, pvalue = 0.351\n"
     ]
    }
   ],
   "source": [
    "import statsmodels.stats.proportion as proportion\n",
    "stay_a = sum(dfA['app used after test started']) #The cumulative retention count for Group A.\n",
    "stay_b = sum(dfB['app used after test started']) \n",
    "pop_a = len(dfA) #The cumulative enrollment count for Group A.\n",
    "pop_b = len(dfB)\n",
    "retained = np.array([stay_a, stay_b])\n",
    "all_obs = np.array([pop_a, pop_b])\n",
    "\n",
    "chisq, pvalue, table = proportion.proportions_chisquare(retained, all_obs)\n",
    "print('Results are chisq = %.3f, pvalue = %.3f'%(chisq, pvalue))"
   ]
  },
  {
   "cell_type": "markdown",
   "id": "ccbd125f",
   "metadata": {
    "cell_id": 6
   },
   "source": [
    "Method 2: Z-test\n",
    "\n",
    "The proportions z-test, also known as a z-test for proportions, is a statistical method used to compare the difference in proportions between two binomial distributions. It helps determine whether the proportions in two samples are equal or not."
   ]
  },
  {
   "cell_type": "code",
   "execution_count": 15,
   "id": "88eacc80",
   "metadata": {
    "cell_id": 39,
    "tags": []
   },
   "outputs": [
    {
     "name": "stdout",
     "output_type": "stream",
     "text": [
      "zscore = 0.9323, pvalue = 0.3512\n"
     ]
    }
   ],
   "source": [
    "from statsmodels.stats.proportion import proportions_ztest\n",
    "zscore, pvalue = proportions_ztest(retained, all_obs)\n",
    "print('zscore = {:.4f}, pvalue = {:.4f}'.format(zscore, pvalue))"
   ]
  },
  {
   "cell_type": "markdown",
   "id": "7ce96aab-2411-4609-b7b4-c3ac37e6a0e2",
   "metadata": {},
   "source": [
    "Based on the results of the two methods mentioned above, although the retention rate of the experimental group (39.8%) is slightly lower than that of the control group (40.1%), the calculated p-value > 0.05 indicates that this difference is not significant.\n",
    "\n",
    "Since the next-day retention rate is our barrier metric and the expectation is non-inferiority, considering that there is no significant difference in retention rates between the experimental and control groups, the barrier metric has been validated."
   ]
  },
  {
   "cell_type": "markdown",
   "id": "7a29aa31",
   "metadata": {},
   "source": [
    "# Experimental Conclusion\n",
    "\n",
    "After analysis, it has been found that the Polar Star metric in this experiment showed significant gains, while the Guardrail metric did not deteriorate. Therefore, the new feature can be deployed.\n",
    "\n",
    "However, it is important to note that the penetration rate of the new feature in the experimental group was less than 20%. This indicates that a majority of the users in the experimental group did not actually click to enter the SnapFlicks interface. In such cases, it may be necessary to discuss with the development and product management teams to identify the root causes of this data phenomenon. Here are a few hypotheses and corresponding validation methods that can be considered:\n",
    "\n",
    "1) Low version coverage: The new version of SnapFlicks requires users to update to the latest version to experience it. It is possible that only a small portion of the experimental group chose to update. This can be validated by comparing the penetration rates of the new version between the experimental and control groups.\n",
    "\n",
    "2) Performance issues: It is possible that performance problems prevented the SnapFlicks button from displaying successfully on some devices, or users clicked on it but couldn't enter the SnapFlicks interface. Observing performance metrics such as button display rates and success rates of user clicks can help validate this hypothesis.\n",
    "\n",
    "3) User reach: The SnapFlicks entry on the homepage may be too obscure, and many users may not have noticed it. Understanding this through user surveys or research can be helpful. Additionally, suggesting different entry solutions for AB testing to the UI designers can also be considered.\n",
    "\n",
    "Regardless of the reasons, we can be certain that even if only a small portion of the experimental group experienced the new feature, it has already brought significant benefits. Therefore, based on the data, we can provide feedback to the product managers and recommend that their next optimization focus should be on increasing the penetration rate of SnapFlicks among InstaMagnet users, in order to achieve greater overall benefits.\n"
   ]
  }
 ],
 "metadata": {
  "kernelspec": {
   "display_name": "Python 3 (ipykernel)",
   "language": "python",
   "name": "python3"
  },
  "language_info": {
   "codemirror_mode": {
    "name": "ipython",
    "version": 3
   },
   "file_extension": ".py",
   "mimetype": "text/x-python",
   "name": "python",
   "nbconvert_exporter": "python",
   "pygments_lexer": "ipython3",
   "version": "3.11.0"
  },
  "max_cell_id": 97,
  "toc": {
   "base_numbering": 1,
   "nav_menu": {},
   "number_sections": true,
   "sideBar": true,
   "skip_h1_title": false,
   "title_cell": "Table of Contents",
   "title_sidebar": "Contents",
   "toc_cell": false,
   "toc_position": {},
   "toc_section_display": true,
   "toc_window_display": true
  }
 },
 "nbformat": 4,
 "nbformat_minor": 5
}
