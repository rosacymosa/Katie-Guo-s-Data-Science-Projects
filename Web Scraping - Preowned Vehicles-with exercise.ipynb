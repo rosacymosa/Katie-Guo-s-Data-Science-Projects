{
 "cells": [
  {
   "cell_type": "markdown",
   "metadata": {},
   "source": [
    "# Let's start from using beautifulsoup for parsing static website"
   ]
  },
  {
   "cell_type": "markdown",
   "metadata": {},
   "source": [
    "### Example 1: IMDb Movies Rating"
   ]
  },
  {
   "cell_type": "markdown",
   "metadata": {},
   "source": [
    "![Alt Text](imdb.png)"
   ]
  },
  {
   "cell_type": "code",
   "execution_count": null,
   "metadata": {
    "tags": []
   },
   "outputs": [],
   "source": [
    "# Import necessary packages\n",
    "import numpy as np\n",
    "import pandas as pd\n",
    "import requests\n",
    "from bs4 import BeautifulSoup\n",
    "import matplotlib.pyplot as plt\n",
    "import seaborn as sns\n",
    "from matplotlib.ticker import FuncFormatter"
   ]
  },
  {
   "cell_type": "code",
   "execution_count": null,
   "metadata": {
    "tags": []
   },
   "outputs": [],
   "source": [
    "# Send a GET request to the IMDb Top 250 page\n",
    "url = 'https://www.imdb.com/chart/top/'\n",
    "response = requests.get(url)\n",
    "\n",
    "# Parse the HTML response with BeautifulSoup\n",
    "soup = BeautifulSoup(response.text, 'html.parser')\n",
    "type(soup)"
   ]
  },
  {
   "cell_type": "code",
   "execution_count": null,
   "metadata": {
    "tags": []
   },
   "outputs": [],
   "source": [
    "# Find all movie rows\n",
    "movie_rows = soup.select('tbody.lister-list tr')\n",
    "\n",
    "# Initialize empty lists to store the extracted data\n",
    "titles = []\n",
    "ratings = []\n",
    "years = []\n",
    "\n",
    "# Extract data from each movie row\n",
    "for row in movie_rows:\n",
    "    title = row.find('td', class_='titleColumn').find('a').text\n",
    "    rating = row.find('td', class_='ratingColumn').strong.text\n",
    "    year = row.find('td', class_='titleColumn').span.text.strip('()')    \n",
    "    titles.append(title)\n",
    "    ratings.append(rating)\n",
    "    years.append(year)\n",
    "\n",
    "# Create a Pandas DataFrame from the extracted data\n",
    "data = {\n",
    "    'Title': titles,\n",
    "    'Rating': ratings,\n",
    "    'Year': years\n",
    "}\n",
    "df = pd.DataFrame(data)\n",
    "df['Rating'] = df['Rating'].astype(np.float32)\n",
    "# Print the DataFrame\n",
    "df"
   ]
  },
  {
   "cell_type": "markdown",
   "metadata": {},
   "source": [
    "#### Since the data is relatively simple here, we just do visualization exercise:"
   ]
  },
  {
   "cell_type": "code",
   "execution_count": null,
   "metadata": {
    "tags": []
   },
   "outputs": [],
   "source": [
    "# Select the top 10 movies\n",
    "top_10_df = df.head(10)\n",
    "\n",
    "# Set custom style using Seaborn\n",
    "sns.set_style(\"whitegrid\")\n",
    "\n",
    "# Define custom colors\n",
    "colors = ['#004C9A', '#44AEEF', '#00798C', '#00B2A9', '#FF9F1C', '#FF6500', '#FF2E63', '#91328C', '#F47321', '#009CDA']\n",
    "\n",
    "# Set up the plot\n",
    "plt.figure(figsize=(10, 6))\n",
    "ax = sns.barplot(x='Rating', y='Title', data=top_10_df, palette=colors)\n",
    "\n",
    "\n",
    "# Customize the plot\n",
    "ax.set_xlabel('Rating', fontsize=12, fontweight='bold', fontfamily='Arial')\n",
    "ax.set_ylabel('Movie Title', fontsize=12, fontweight='bold', fontfamily='Arial')\n",
    "ax.set_title('Top 10 Movies - IMDb Ratings', fontsize=14, fontweight='bold', fontfamily='Arial')\n",
    "\n",
    "\n",
    "# Add data labels to the bars\n",
    "for i, row in enumerate(top_10_df.itertuples()):\n",
    "    ax.text(row.Rating, i, f\"{row.Rating:.1f}\", va='center', fontsize=10, fontweight='bold', color='white')\n",
    "\n",
    "# Remove spines\n",
    "sns.despine(left=True, bottom=True)\n",
    "\n",
    "# Customize tick labels\n",
    "ax.xaxis.set_major_formatter(FuncFormatter(lambda x, _: f'{x:.1f}'))\n",
    "\n",
    "# Adjust the spacing\n",
    "plt.tight_layout()\n",
    "\n",
    "# Display the plot\n",
    "plt.show()"
   ]
  },
  {
   "cell_type": "markdown",
   "metadata": {},
   "source": [
    "#### <span style=\"color:darkred\">*Exercise*:\n",
    "For the top 250 movies, groupby year and visualize the time series of average scores.\n",
    "</span>"
   ]
  },
  {
   "cell_type": "code",
   "execution_count": null,
   "metadata": {
    "tags": []
   },
   "outputs": [],
   "source": [
    "## fill your code here"
   ]
  },
  {
   "cell_type": "markdown",
   "metadata": {},
   "source": [
    "### Example2: AI keywords in Wikipedia"
   ]
  },
  {
   "cell_type": "markdown",
   "metadata": {
    "tags": []
   },
   "source": [
    "![Alt Text](wiki.png)"
   ]
  },
  {
   "cell_type": "code",
   "execution_count": null,
   "metadata": {
    "tags": []
   },
   "outputs": [],
   "source": [
    "import requests\n",
    "from bs4 import BeautifulSoup\n",
    "from wordcloud import WordCloud, STOPWORDS\n",
    "import matplotlib.pyplot as plt\n",
    "import re\n",
    "\n",
    "# Define the URL of the Wikipedia page\n",
    "url = \"https://en.wikipedia.org/wiki/Artificial_intelligence\"\n",
    "\n",
    "# Send a GET request to the website\n",
    "response = requests.get(url)\n",
    "\n",
    "# Parse the website's content using BeautifulSoup\n",
    "soup = BeautifulSoup(response.text, 'html.parser')\n",
    "\n",
    "# Get the text content of the website\n",
    "text = soup.get_text()\n",
    "\n",
    "# Use regex to find only the words\n",
    "words = re.findall('\\w+', text)\n",
    "\n",
    "# Convert the list of words into a single string\n",
    "text = ' '.join(words)\n",
    "\n",
    "# Create a set of stopwords\n",
    "stopwords = set(STOPWORDS)\n",
    "\n",
    "# You can add more stopwords to the set\n",
    "stopwords.update([\"the\", \"and\", \"is\", \"in\", \"to\", \"of\", \"AI\", \"an\", \"as\", \"that\", \"for\"])\n",
    "\n",
    "# Create a WordCloud object\n",
    "wordcloud = WordCloud(stopwords=stopwords, \n",
    "                      max_words=100, \n",
    "                      background_color='white', \n",
    "                      contour_width=3, \n",
    "                      contour_color='steelblue',\n",
    "                      colormap='viridis',\n",
    "                      width=800,\n",
    "                      height=400).generate(text)\n",
    "\n",
    "# Plot the WordCloud image                        \n",
    "plt.figure(figsize=(10,5), facecolor='white')\n",
    "plt.imshow(wordcloud, interpolation=\"bilinear\")\n",
    "plt.axis(\"off\")\n",
    "plt.tight_layout(pad=0)\n",
    "plt.show()\n"
   ]
  },
  {
   "cell_type": "markdown",
   "metadata": {},
   "source": [
    "---\n",
    "# Use selenium for dynamic parsing"
   ]
  },
  {
   "cell_type": "markdown",
   "metadata": {},
   "source": [
    "Before we start\n",
    "1. Please make sure you have downloaded chromedriver for your corresponding chrome version and OS:\n",
    "\n",
    "    [Download chromedriver here: https://chromedriver.chromium.org/downloads](https://chromedriver.chromium.org/downloads)\n",
    "\n",
    "2. Please install selenium, you can use either conda or pip for installation:\n",
    "```sh\n",
    "pip install selenium\n",
    "```\n",
    "    or\n",
    "```sh\n",
    "conda install selenium\n",
    "```\n"
   ]
  },
  {
   "cell_type": "code",
   "execution_count": null,
   "metadata": {
    "tags": []
   },
   "outputs": [],
   "source": [
    "import requests\n",
    "import time\n",
    "import re\n",
    "import pandas as pd\n",
    "import numpy as np\n",
    "\n",
    "from selenium import webdriver\n",
    "from selenium.webdriver.chrome.options import Options\n",
    "from datetime import datetime, timedelta"
   ]
  },
  {
   "cell_type": "code",
   "execution_count": null,
   "metadata": {
    "tags": []
   },
   "outputs": [],
   "source": [
    "# create an instance of the Options class, which allows you to set various options for Chrome WebDriver. \n",
    "chrome_options = Options()\n",
    "## run in headless mode. Headless mode means that the browser is run without a graphical user interface - so it doesn't open a visible window. This is useful for running automated tests or scripts on a server or other environment where no display is available or desired.\n",
    "# chrome_options.add_argument(\"--headless\")  \n",
    "# image loading will be disabled in the Chrome browser (2 stands for blocking the images from being loaded).\n",
    "prefs = {\"profile.managed_default_content_settings.images\": 2}\n",
    "chrome_options.add_experimental_option(\"prefs\", prefs)\n",
    "# Set the path to the ChromeDriver, like this format in Mac:\n",
    "# chrome_driver_path = \"/Users/xxx/Documents/Codes/chromedriver\"\n",
    "# Or this format as in Windows:\n",
    "chrome_driver_path = \"C:\\\\Projects\\\\chromedriver_win32\\\\chromedriver.exe\"\n",
    "# chrome_driver_path = \"your-own-directory-of-chromedriver\""
   ]
  },
  {
   "cell_type": "markdown",
   "metadata": {},
   "source": [
    "### Our target of data analysis today:\n",
    "\n",
    "As a car-renting platform, we would like to do data analysis of the current preowned vehicle market to \n",
    "* Determine the price range and distribution of the cars on current second-hand market\n",
    "* Use relevant information to determine the insurance policy and price the contracts\n",
    "\n",
    "Craigslist is a privately-held American company operating a classified advertisements website with sections devoted to jobs, housing, for sale, items wanted, services, community service, gigs, résumés, and discussion forums.\n",
    "And here today we would like to parse this website to get the price of pre-owned vehicles.\n"
   ]
  },
  {
   "cell_type": "markdown",
   "metadata": {},
   "source": [
    "![Alt Text](cl.png)"
   ]
  },
  {
   "cell_type": "code",
   "execution_count": null,
   "metadata": {
    "tags": []
   },
   "outputs": [],
   "source": [
    "# Clean Price format. E.g. $8,000 -> 8000\n",
    "def clean_price(raw_price: str) -> int:\n",
    "    return int(''.join(char for char in raw_price if char.isdigit()))\n",
    "\n",
    "# Parse date \"30 minutes ago\"-> today's date; 03/14 -> 2023/03/14\n",
    "def parse_date(date_str: str) -> datetime.date:\n",
    "    today = datetime.now()\n",
    "    if 'ago' in date_str:\n",
    "        return datetime.today().date()\n",
    "\n",
    "    if '/' in date_str:\n",
    "        month, day = map(int, date_str.split('/'))\n",
    "        date_obj = datetime(today.year, month, day).date()\n",
    "        return date_obj\n",
    "\n",
    "    return None\n",
    "\n",
    "# Extract car model year from model description\n",
    "def extract_model_year(model_str: str)->int:\n",
    "    pattern = r'\\b[12]\\d{3}\\b'\n",
    "    results = re.findall(pattern, model_str)\n",
    "    if results:\n",
    "        return int(results[0])\n",
    "    else:\n",
    "        return 0\n",
    "    \n",
    "# Extract car info from a list of tags\n",
    "def extract_tag_info(tags:list)->dict:\n",
    "    tag_info = {\"condition\": \"\", \"odometer\": -1, \"type\": \"\", \"transmission\":\"\"}\n",
    "    for tag in tags:\n",
    "        key_and_value = tag.split(\":\")\n",
    "        if len(key_and_value)<2:\n",
    "            continue\n",
    "        key_tag = key_and_value[0].strip()\n",
    "        tag_value = key_and_value[-1].strip()\n",
    "        if key_tag in tag_info:\n",
    "            tag_info[key_tag] = tag_value\n",
    "    tag_info[\"odometer\"] = int(tag_info[\"odometer\"])\n",
    "    return tag_info\n",
    "\n",
    "# Extract car manufacturer from listing title\n",
    "def extract_manufacturer(title: str)-> str:\n",
    "    title = title.lower()\n",
    "    common_car_brands = ['ford', 'chevrolet', 'toyota', 'honda', 'nissan', 'jeep', 'subaru', \n",
    "                         'hyundai', 'kia', 'gmc', 'ram', 'volkswagen', 'bmw', 'mercedes-benz', 'lexus', \n",
    "                         'audi', 'mazda', 'dodge', 'buick', 'cadillac', 'acura', 'infiniti', 'volvo', 'lincoln', \n",
    "                         'mitsubishi', 'porsche', 'mini', 'tesla', 'jaguar', 'land rover', 'alfa romeo', 'genesis']\n",
    "    for brand in common_car_brands:\n",
    "        if brand in title:\n",
    "            return brand\n",
    "    return \"\"\n"
   ]
  },
  {
   "cell_type": "code",
   "execution_count": null,
   "metadata": {
    "tags": []
   },
   "outputs": [],
   "source": [
    "def scrapeCarListing(page: int):\n",
    "    global chrome_options, chrome_driver_path\n",
    "    all_data = []\n",
    "    driver = webdriver.Chrome(executable_path=chrome_driver_path, options=chrome_options)\n",
    "    url = f\"https://newyork.craigslist.org/search/cta#search=1~gallery~{page}~0\"\n",
    "    driver.get(url)\n",
    "    time.sleep(1)\n",
    "    cards = driver.find_elements_by_css_selector(\"div.gallery-card\")\n",
    "    for card in cards:\n",
    "        title = card.find_element_by_css_selector(\"a.titlestring\").text\n",
    "        raw_price = card.find_elements_by_css_selector(\".priceinfo\")\n",
    "        if raw_price:\n",
    "            price = clean_price(raw_price[0].text)\n",
    "        else:\n",
    "            price = 0\n",
    "        meta_data = card.find_element_by_css_selector(\"div.meta\").text.split(\"·\")\n",
    "        post_date = parse_date(meta_data[0])\n",
    "        link = card.find_element_by_css_selector(\"a.titlestring\").get_attribute(\"href\").strip()\n",
    "        d = {\"title\": title, \"price\": price, \"post_date\": post_date, \"link\":link}\n",
    "        all_data.append(d)\n",
    "    df = pd.DataFrame(all_data)\n",
    "    driver.close()\n",
    "    return df\n",
    "\n",
    "def scrapeCarDetails(link: str):\n",
    "    global chrome_options, chrome_driver_path\n",
    "    all_data = []\n",
    "    driver = webdriver.Chrome(executable_path=chrome_driver_path, options=chrome_options)\n",
    "    driver.get(link)\n",
    "    time.sleep(1)\n",
    "    tags = driver.find_element_by_css_selector(\"body > section > section > section > div.mapAndAttrs\").text.split(\"\\n\")\n",
    "    car_details = extract_tag_info(tags)\n",
    "    driver.close()\n",
    "    return car_details"
   ]
  },
  {
   "cell_type": "code",
   "execution_count": null,
   "metadata": {
    "tags": []
   },
   "outputs": [],
   "source": [
    "page = 0\n",
    "df = scrapeCarListing(page)\n",
    "df[\"car_details\"] = df[\"link\"].apply(scrapeCarDetails)\n",
    "expand_details = pd.DataFrame(df['car_details'].tolist())\n",
    "df = pd.concat([df.drop(\"car_details\", axis=1), expand_details], axis=1)\n",
    "df[\"model_year\"] = df[\"title\"].apply(extract_model_year)\n",
    "df[\"manufacturer\"] = df[\"title\"].apply(extract_manufacturer)"
   ]
  },
  {
   "cell_type": "code",
   "execution_count": null,
   "metadata": {
    "tags": []
   },
   "outputs": [],
   "source": [
    "df"
   ]
  },
  {
   "cell_type": "code",
   "execution_count": null,
   "metadata": {
    "tags": []
   },
   "outputs": [],
   "source": [
    "# df.to_csv(\"car_example.csv\")"
   ]
  },
  {
   "cell_type": "markdown",
   "metadata": {},
   "source": [
    "### Data Summary and Cleaning"
   ]
  },
  {
   "cell_type": "code",
   "execution_count": null,
   "metadata": {
    "tags": []
   },
   "outputs": [],
   "source": [
    "df = pd.read_csv(\"car_example.csv\", index_col=0)\n",
    "df.head()"
   ]
  },
  {
   "cell_type": "code",
   "execution_count": null,
   "metadata": {
    "tags": []
   },
   "outputs": [],
   "source": [
    "df.info()"
   ]
  },
  {
   "cell_type": "code",
   "execution_count": null,
   "metadata": {
    "tags": []
   },
   "outputs": [],
   "source": [
    "df.describe()"
   ]
  },
  {
   "cell_type": "markdown",
   "metadata": {},
   "source": [
    "#### Requirements:\n",
    "\n",
    "Before we continue, we need to do several pre-processing of the data:\n",
    "- Fill empty condition with string 'unknown'\n",
    "- Fill empty type with string 'unknown'\n",
    "- Fill empty manufacturer with string 'unknown'\n",
    "\n",
    "#### <span style=\"color:darkred\">*Exercise*:\n",
    "</span>\n",
    "\n",
    "- Calculate the mean odometer and price for each car's manufactor, and put together with the full data\n",
    "- Fill model year by average ages"
   ]
  },
  {
   "cell_type": "code",
   "execution_count": null,
   "metadata": {
    "tags": []
   },
   "outputs": [],
   "source": [
    "# Drop Duplicates\n",
    "df.drop_duplicates(inplace=True)\n",
    "\n",
    "# Fill NaN\n",
    "df['condition'].fillna('unknown', inplace=True)\n",
    "df['type'].fillna('unknown', inplace=True)\n",
    "df['manufacturer'].fillna('unknown', inplace=True)\n"
   ]
  },
  {
   "cell_type": "code",
   "execution_count": null,
   "metadata": {
    "tags": []
   },
   "outputs": [],
   "source": [
    "## Fill your code here:\n"
   ]
  },
  {
   "cell_type": "markdown",
   "metadata": {
    "tags": []
   },
   "source": [
    "### Data Visualization"
   ]
  },
  {
   "cell_type": "code",
   "execution_count": null,
   "metadata": {
    "tags": []
   },
   "outputs": [],
   "source": [
    "df.head()"
   ]
  },
  {
   "cell_type": "code",
   "execution_count": null,
   "metadata": {
    "tags": []
   },
   "outputs": [],
   "source": [
    "import pandas as pd\n",
    "import numpy as np\n",
    "import matplotlib.pyplot as plt\n",
    "import seaborn as sns"
   ]
  },
  {
   "cell_type": "markdown",
   "metadata": {},
   "source": [
    "#### Visualize Price vs. Odometer by Scatter Plot"
   ]
  },
  {
   "cell_type": "code",
   "execution_count": null,
   "metadata": {
    "tags": []
   },
   "outputs": [],
   "source": [
    "plt.figure(figsize=(10, 6))\n",
    "# sns.scatterplot(data=df, x='odometer', y='price')\n",
    "scatter = sns.scatterplot(data=df, x='odometer', y='price', hue='ages', edgecolor=None)\n",
    "# Customize the plot\n",
    "scatter.set_title('Price vs Odometer Reading by Manufacturing Year', fontsize=16, fontweight='bold')\n",
    "scatter.set_xlabel('Odometer Reading', fontsize=12, fontweight='bold')\n",
    "scatter.set_ylabel('Price', fontsize=12, fontweight='bold')\n",
    "\n",
    "# Add a legend outside the plot at position (1.02, 0)\n",
    "plt.legend(bbox_to_anchor=(1.02, 0), loc='lower left', borderaxespad=0)\n",
    "\n",
    "# Remove top and right spines\n",
    "sns.despine(top=True, right=True)\n",
    "\n",
    "plt.tight_layout()\n",
    "plt.show()\n"
   ]
  },
  {
   "cell_type": "markdown",
   "metadata": {
    "tags": []
   },
   "source": [
    "#### Filter of Outliers\n",
    "\n",
    "Here we can see few outliers, we can use **IQR  (Interquartile Range) method** to filter out the outliers: "
   ]
  },
  {
   "cell_type": "code",
   "execution_count": null,
   "metadata": {
    "tags": []
   },
   "outputs": [],
   "source": [
    "# Calculate the IQR of the price column\n",
    "Q1 = df['price'].quantile(0.25)\n",
    "Q3 = df['price'].quantile(0.75)\n",
    "IQR = Q3 - Q1\n",
    "\n",
    "# Define a range for non-outliers\n",
    "non_outlier_range = (df['price'] >= Q1 - 1.5 * IQR) & (df['price'] <= Q3 + 1.5 * IQR)\n",
    "# Only keep rows in this range\n",
    "_df = df.loc[non_outlier_range]"
   ]
  },
  {
   "cell_type": "code",
   "execution_count": null,
   "metadata": {
    "tags": []
   },
   "outputs": [],
   "source": [
    "# Set a white grid style for the plot\n",
    "sns.set_style(\"whitegrid\")\n",
    "\n",
    "# Set custom color palette\n",
    "sns.set_palette(\"Paired\")\n",
    "\n",
    "plt.figure(figsize=(10, 6))\n",
    "scatter = sns.scatterplot(data=_df, x='odometer', y='price', hue='ages', edgecolor=None)\n",
    "# Customize the plot\n",
    "scatter.set_title('Price vs Odometer Reading by Manufacturing Year', fontsize=16, fontweight='bold')\n",
    "scatter.set_xlabel('Odometer Reading', fontsize=12, fontweight='bold')\n",
    "scatter.set_ylabel('Price', fontsize=12, fontweight='bold')\n",
    "\n",
    "# Add a legend outside the plot at position (1.02, 0)\n",
    "plt.legend(bbox_to_anchor=(1.02, 0), loc='lower left', borderaxespad=0)\n",
    "\n",
    "# Remove top and right spines\n",
    "sns.despine(top=True, right=True)\n",
    "\n",
    "plt.tight_layout()\n",
    "plt.show()"
   ]
  },
  {
   "cell_type": "markdown",
   "metadata": {
    "tags": []
   },
   "source": [
    "#### <span style=\"color:darkred\">*Exercise*:\n",
    "Visualize Average Price vs. Average Odometer by Scatter Plot\n",
    "</span>"
   ]
  },
  {
   "cell_type": "code",
   "execution_count": null,
   "metadata": {
    "tags": []
   },
   "outputs": [],
   "source": [
    "## fill your code here"
   ]
  },
  {
   "cell_type": "markdown",
   "metadata": {},
   "source": [
    "#### Visualize car type vs. price by barchart:"
   ]
  },
  {
   "cell_type": "code",
   "execution_count": null,
   "metadata": {
    "tags": []
   },
   "outputs": [],
   "source": [
    "average_price_by_type = df.groupby('type')['price'].mean().sort_values(ascending=False).reset_index()\n",
    "\n",
    "# Set the style and palette\n",
    "sns.set_style(\"whitegrid\")\n",
    "sns.set_palette(\"Blues\")\n",
    "\n",
    "# Create a larger figure\n",
    "plt.figure(figsize=(14, 8))\n",
    "\n",
    "# Create the bar plot\n",
    "barplot = sns.barplot(data=average_price_by_type, x='type', y='price', edgecolor=None)\n",
    "\n",
    "# Set a title and labels with larger, bold text\n",
    "barplot.set_title('Average Price by Car Type', fontsize=18, fontweight='bold')\n",
    "barplot.set_xlabel('Car Type', fontsize=14, fontweight='bold')\n",
    "barplot.set_ylabel('Average Price ($)', fontsize=14, fontweight='bold')\n",
    "\n",
    "# Rotate x-axis labels for better visibility\n",
    "plt.xticks(rotation=45, ha='right', fontsize=12)\n",
    "\n",
    "# Remove top and right spines\n",
    "sns.despine(top=True, right=True)\n",
    "\n",
    "# Add data labels on top of the bars\n",
    "for i, row in average_price_by_type.iterrows():\n",
    "    barplot.text(i,  row.price, f\"$ {round(row.price)}\", ha='center', va='bottom', color='black', fontsize=12)\n",
    "\n",
    "plt.tight_layout()\n",
    "plt.show()\n"
   ]
  },
  {
   "cell_type": "markdown",
   "metadata": {},
   "source": [
    "### <span style=\"color:darkred\">*Exercise*:\n",
    "Visualize manufacturer vs. price by box plot:\n",
    "</span>"
   ]
  },
  {
   "cell_type": "code",
   "execution_count": null,
   "metadata": {
    "tags": []
   },
   "outputs": [],
   "source": [
    "## fill your code here"
   ]
  },
  {
   "cell_type": "markdown",
   "metadata": {},
   "source": [
    "### <span style=\"color:darkred\">*Exercise*:\n",
    "Visualize the correlation matrix of ['price', 'odometer', 'model_year']:\n",
    "</span>"
   ]
  },
  {
   "cell_type": "code",
   "execution_count": null,
   "metadata": {
    "tags": []
   },
   "outputs": [],
   "source": [
    "## fill your code here"
   ]
  },
  {
   "cell_type": "markdown",
   "metadata": {},
   "source": [
    "## Except basic statistical analysis and visualization, what else can we do?"
   ]
  },
  {
   "cell_type": "markdown",
   "metadata": {},
   "source": [
    "Typical Machine-Learning project has following steps:\n",
    "\n",
    "##### 1. Get data ready\n",
    "##### 2. Preprocessing the data\n",
    "##### 3. Visualization to understand the data\n",
    "##### <span style=\"color:darkred\"> 4. Feature engineering (if exist non-numeric value)\n",
    "</span>\n",
    "\n",
    "##### <span style=\"color:darkred\"> 5. Train, tune and evaluate the model\n",
    "</span>"
   ]
  },
  {
   "cell_type": "markdown",
   "metadata": {},
   "source": [
    "### Example 1. Use Linear Regression to Predict Car Price"
   ]
  },
  {
   "cell_type": "markdown",
   "metadata": {
    "tags": []
   },
   "source": [
    "[Reference: Linear regression in Scikit-Learn](https://scikit-learn.org/stable/modules/generated/sklearn.linear_model.LinearRegression.html)"
   ]
  },
  {
   "cell_type": "code",
   "execution_count": null,
   "metadata": {
    "tags": []
   },
   "outputs": [],
   "source": [
    "from sklearn.model_selection import train_test_split\n",
    "from sklearn.linear_model import LinearRegression\n",
    "from sklearn.metrics import mean_squared_error, r2_score\n",
    "from sklearn.preprocessing import OneHotEncoder\n",
    "from sklearn.compose import ColumnTransformer\n",
    "\n",
    "numeric_features = ['odometer', 'model_year']\n",
    "categorical_features = ['condition', 'type', 'transmission', 'manufacturer']\n",
    "\n",
    "# Preprocessing categorical features using OneHotEncoder\n",
    "preprocessor = ColumnTransformer(\n",
    "    transformers=[\n",
    "        ('num', 'passthrough', numeric_features),\n",
    "        ('cat', OneHotEncoder(handle_unknown='ignore'), categorical_features)\n",
    "    ])\n",
    "\n",
    "df = df.loc[df['price']>0]\n",
    "X = df[numeric_features + categorical_features]\n",
    "y = df['price']\n",
    "\n",
    "# Splitting data into training and testing sets\n",
    "X_train, X_test, y_train, y_test = train_test_split(X, y, test_size=0.2, random_state=10)\n",
    "\n",
    "# Preprocessing the input features\n",
    "X_train_processed = preprocessor.fit_transform(X_train)\n",
    "X_test_processed = preprocessor.transform(X_test)\n",
    "\n",
    "# Creating a linear regression model and fitting it on the training data\n",
    "reg = LinearRegression()\n",
    "reg.fit(X_train_processed, y_train)\n",
    "\n",
    "# Predicting the target variable for the test dataset\n",
    "y_pred = reg.predict(X_test_processed)\n",
    "\n",
    "# Evaluating the model performance\n",
    "mse = mean_squared_error(y_test, y_pred)\n",
    "rmse = np.sqrt(mse)\n",
    "r2 = r2_score(y_test, y_pred)\n",
    "\n",
    "print(\"Mean squared error:\", mse)\n",
    "print(\"Root mean squared error:\", rmse)\n",
    "print(\"R2 score:\", r2)"
   ]
  },
  {
   "cell_type": "markdown",
   "metadata": {},
   "source": [
    "### Example 2. Use XGBoost to Predict Car Price"
   ]
  },
  {
   "cell_type": "markdown",
   "metadata": {
    "tags": []
   },
   "source": [
    "[Reference: Xgboost](https://xgboost.readthedocs.io/en/stable/)"
   ]
  },
  {
   "cell_type": "code",
   "execution_count": null,
   "metadata": {
    "tags": []
   },
   "outputs": [],
   "source": [
    "from sklearn.metrics import mean_squared_error, r2_score\n",
    "from sklearn.preprocessing import OneHotEncoder\n",
    "from sklearn.compose import ColumnTransformer\n",
    "import xgboost as xgb\n",
    "\n",
    "# Selecting relevant numeric and categorical features\n",
    "numeric_features = ['odometer', 'model_year']\n",
    "categorical_features = ['condition', 'type', 'transmission', 'manufacturer']\n",
    "\n",
    "# Preprocessing categorical features using OneHotEncoder\n",
    "preprocessor = ColumnTransformer(\n",
    "    transformers=[\n",
    "        ('num', 'passthrough', numeric_features),\n",
    "        ('cat', OneHotEncoder(handle_unknown='ignore'), categorical_features)\n",
    "    ])\n",
    "\n",
    "df = df.loc[df['price']>0]\n",
    "X = df[numeric_features + categorical_features]\n",
    "y = df['price']\n",
    "\n",
    "# Splitting data into training and testing sets\n",
    "X_train, X_test, y_train, y_test = train_test_split(X, y, test_size=0.2, random_state=10)\n",
    "\n",
    "# Preprocessing the input features\n",
    "X_train_processed = preprocessor.fit_transform(X_train)\n",
    "X_test_processed = preprocessor.transform(X_test)\n",
    "\n",
    "# Creating an XGBoost model and fitting it on the training data\n",
    "xgb_model = xgb.XGBRegressor(objective='reg:squarederror', max_depth=3, learning_rate=0.01, random_state=10)\n",
    "xgb_model.fit(X_train_processed, y_train)\n",
    "\n",
    "# Predicting the target variable for the test dataset\n",
    "y_pred = xgb_model.predict(X_test_processed)\n",
    "\n",
    "# Evaluating the model performance\n",
    "mse = mean_squared_error(y_test, y_pred)\n",
    "rmse = np.sqrt(mse)\n",
    "r2 = r2_score(y_test, y_pred)\n",
    "\n",
    "print(\"Mean squared error:\", mse)\n",
    "print(\"Root mean squared error:\", rmse)\n",
    "print(\"R2 score:\", r2)"
   ]
  }
 ],
 "metadata": {
  "kernelspec": {
   "display_name": "Python 3 (ipykernel)",
   "language": "python",
   "name": "python3"
  },
  "language_info": {
   "codemirror_mode": {
    "name": "ipython",
    "version": 3
   },
   "file_extension": ".py",
   "mimetype": "text/x-python",
   "name": "python",
   "nbconvert_exporter": "python",
   "pygments_lexer": "ipython3",
   "version": "3.11.0"
  }
 },
 "nbformat": 4,
 "nbformat_minor": 4
}
